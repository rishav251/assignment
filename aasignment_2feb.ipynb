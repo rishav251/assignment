{
 "cells": [
  {
   "cell_type": "code",
   "execution_count": null,
   "id": "5324d156-3b89-4811-80fa-85606dd02e23",
   "metadata": {},
   "outputs": [],
   "source": [
    "# question no: 1\n",
    "A for loop is used when you want to iterate over a sequence (such as a list, tuple, or string) or other iterable object, and execute a block of code a set number of times. Here's an example:\n",
    "\n",
    "css\n",
    "Copy code\n",
    "fruits = ['apple', 'banana', 'cherry']\n",
    "for fruit in fruits:\n",
    "    print(fruit)\n",
    "Output:\n",
    "\n",
    "Copy code\n",
    "apple\n",
    "banana\n",
    "cherry\n",
    "A while loop, on the other hand, is used when you want to repeatedly execute a block of code as long as a certain condition is met. Here's an example:\n",
    "\n",
    "python\n",
    "Copy code\n",
    "count = 0\n",
    "while count < 5:\n",
    "    print(count)\n",
    "    count += 1\n",
    "Output:\n",
    "\n",
    "Copy code\n",
    "0\n",
    "1\n",
    "2\n",
    "3\n",
    "4\n",
    "So, in general, use a for loop when you know how many times you want to iterate, and use a while loop when you want to keep iterating as long as a condition is true."
   ]
  },
  {
   "cell_type": "code",
   "execution_count": null,
   "id": "852f876c-46e9-46dc-8b6e-bf11341c0ef7",
   "metadata": {},
   "outputs": [],
   "source": [
    "#question no:2\n",
    "# using while loop\n",
    "sum_of_10 = 0\n",
    "product = 1\n",
    "i = 1\n",
    "while i <= 10:\n",
    "    sum_of_10 = sum_of_10 + i\n",
    "    product = product*i \n",
    "    i = i+1\n",
    "print(sum_of_10)\n",
    "print(product)\n",
    "\n",
    "# using for loop\n",
    "\n",
    "p = list(range(1,11))\n",
    "sum_of_10 = 0\n",
    "product = 1\n",
    "for i in p:\n",
    "    sum_of_10 = sum_of_10 +i\n",
    "    product = product * i\n",
    "print(sum_of_10)\n",
    "print(product)\n",
    "    \n",
    "\n"
   ]
  },
  {
   "cell_type": "code",
   "execution_count": null,
   "id": "565de602-33b5-459a-93fa-ac461fcb099a",
   "metadata": {},
   "outputs": [],
   "source": [
    "# question no:3\n",
    "unit = int(input(\"enter your unit \"))\n",
    "rupees = 0\n",
    "if unit <= 100:\n",
    "    rupees = unit * 4.50\n",
    "elif unit > 100 and unit <= 200:\n",
    "    rupees = rupees + 100*4.50\n",
    "    rupees = rupees + (unit-100)*6\n",
    "elif unit >200 and unit <= 300:\n",
    "    rupees = rupees + 100*4.50\n",
    "    rupees = rupees + 100*6\n",
    "    rupees = rupees + (unit-200)*10\n",
    "else :\n",
    "    rupees = rupees + 100*4.50\n",
    "    rupees = rupees + 100*6\n",
    "    rupees = rupees + 100*10\n",
    "    rupees = rupees + (unit-300)*20\n",
    "print(rupees)\n",
    "           \n",
    "           \n",
    "           \n",
    "           \n",
    "           \n"
   ]
  },
  {
   "cell_type": "code",
   "execution_count": 25,
   "id": "cc58fda1-2d1b-4613-82a7-3373fdfb4544",
   "metadata": {},
   "outputs": [
    {
     "name": "stdout",
     "output_type": "stream",
     "text": [
      "list os number divisible by 4 or 5 is  [2, 4, 5, 6, 8, 10, 12, 14, 15, 16, 18, 20, 22, 24, 25, 26, 28, 30, 32, 34, 35, 36, 38, 40, 42, 44, 45, 46, 48, 50, 52, 54, 55, 56, 58, 60, 62, 64, 65, 66, 68, 70, 72, 74, 75, 76, 78, 80, 82, 84, 85, 86, 88, 90, 92, 94, 95, 96, 98, 100]\n",
      "cube of number is  [1, 8, 27, 64, 125, 216, 343, 512, 729, 1000, 1331, 1728, 2197, 2744, 3375, 4096, 4913, 5832, 6859, 8000, 9261, 10648, 12167, 13824, 15625, 17576, 19683, 21952, 24389, 27000, 29791, 32768, 35937, 39304, 42875, 46656, 50653, 54872, 59319, 64000, 68921, 74088, 79507, 85184, 91125, 97336, 103823, 110592, 117649, 125000, 132651, 140608, 148877, 157464, 166375, 175616, 185193, 195112, 205379, 216000, 226981, 238328, 250047, 262144, 274625, 287496, 300763, 314432, 328509, 343000, 357911, 373248, 389017, 405224, 421875, 438976, 456533, 474552, 493039, 512000, 531441, 551368, 571787, 592704, 614125, 636056, 658503, 681472, 704969, 729000, 753571, 778688, 804357, 830584, 857375, 884736, 912673, 941192, 970299, 1000000]\n"
     ]
    }
   ],
   "source": [
    "# question no: 4\n",
    "l = []\n",
    "l2 = []\n",
    "for i in range(1,101):\n",
    "    cube = i**3\n",
    "    if cube % 4 == 0 or cube % 5 ==0:\n",
    "        l2.append(i)\n",
    "    l.append(cube)\n",
    "print(\"list os number divisible by 4 or 5 is \",l2)\n",
    "\n",
    "print(\"cube of number is \",l)\n",
    "    "
   ]
  },
  {
   "cell_type": "code",
   "execution_count": 1,
   "id": "1f4326fd-7798-41bd-a36b-0ad67fcacdfd",
   "metadata": {},
   "outputs": [
    {
     "name": "stdout",
     "output_type": "stream",
     "text": [
      "12\n"
     ]
    }
   ],
   "source": [
    "# question no:5\n",
    "s = str.lower(\"I want to become a data scientist\")\n",
    "def count_vowel(s):\n",
    "    count = 0\n",
    "    vowel = 'aeiou'\n",
    "    for char in s:\n",
    "        if char in vowel:\n",
    "            count = count+ 1\n",
    "    return count\n",
    "print(count_vowel(s))"
   ]
  }
 ],
 "metadata": {
  "kernelspec": {
   "display_name": "Python 3 (ipykernel)",
   "language": "python",
   "name": "python3"
  },
  "language_info": {
   "codemirror_mode": {
    "name": "ipython",
    "version": 3
   },
   "file_extension": ".py",
   "mimetype": "text/x-python",
   "name": "python",
   "nbconvert_exporter": "python",
   "pygments_lexer": "ipython3",
   "version": "3.10.8"
  }
 },
 "nbformat": 4,
 "nbformat_minor": 5
}
