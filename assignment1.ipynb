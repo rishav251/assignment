{
 "cells": [
  {
   "cell_type": "code",
   "execution_count": 1,
   "id": "c60e9f24-fbe6-4c2b-b7a1-aac588af29c9",
   "metadata": {},
   "outputs": [
    {
     "ename": "SyntaxError",
     "evalue": "invalid syntax (1700323817.py, line 2)",
     "output_type": "error",
     "traceback": [
      "\u001b[0;36m  Cell \u001b[0;32mIn[1], line 2\u001b[0;36m\u001b[0m\n\u001b[0;31m    James Gosling\u001b[0m\n\u001b[0m          ^\u001b[0m\n\u001b[0;31mSyntaxError\u001b[0m\u001b[0;31m:\u001b[0m invalid syntax\n"
     ]
    }
   ],
   "source": [
    "# question no:1 \n",
    "James Gosling"
   ]
  },
  {
   "cell_type": "code",
   "execution_count": null,
   "id": "ab42d1ba-4e28-4d6a-bb7a-b8831aef0da0",
   "metadata": {},
   "outputs": [],
   "source": [
    "# question no:2\n",
    "Object-oriented programming and structured programming"
   ]
  },
  {
   "cell_type": "code",
   "execution_count": null,
   "id": "fad30b02-97cf-460b-95ef-62569db19db6",
   "metadata": {},
   "outputs": [],
   "source": [
    "#question no:3\n",
    "yes"
   ]
  },
  {
   "cell_type": "code",
   "execution_count": null,
   "id": "423fd217-0d18-4970-8ae2-bba0fc66bb83",
   "metadata": {},
   "outputs": [],
   "source": [
    "#question no:4\n",
    ".py"
   ]
  },
  {
   "cell_type": "code",
   "execution_count": null,
   "id": "671741a4-72c7-4310-811f-e93ca52af7d3",
   "metadata": {},
   "outputs": [],
   "source": [
    "#question no:5\n",
    "interpreted"
   ]
  },
  {
   "cell_type": "code",
   "execution_count": null,
   "id": "92e97966-b28f-44d6-af71-8844f4f620f9",
   "metadata": {},
   "outputs": [],
   "source": [
    "#question no:6\n",
    "a module, a function body, and a class definition"
   ]
  },
  {
   "cell_type": "code",
   "execution_count": null,
   "id": "20c017ea-3d24-4683-a721-ca62a9c03165",
   "metadata": {},
   "outputs": [],
   "source": [
    "#question no:7\n",
    "#"
   ]
  },
  {
   "cell_type": "code",
   "execution_count": null,
   "id": "b3e3e83c-6413-4d3f-a8d1-485bade4732f",
   "metadata": {},
   "outputs": [],
   "source": [
    "#question no:8\n",
    "sys. version"
   ]
  },
  {
   "cell_type": "code",
   "execution_count": null,
   "id": "ede53855-e2a4-4c26-875d-53473e17f641",
   "metadata": {},
   "outputs": [],
   "source": [
    "#question no:9\n",
    "\"lambda\""
   ]
  },
  {
   "cell_type": "code",
   "execution_count": null,
   "id": "ebc4d43a-1635-4446-ba8b-4889c3e9e540",
   "metadata": {},
   "outputs": [],
   "source": [
    "#question no:10\n",
    "preferred installer program"
   ]
  },
  {
   "cell_type": "code",
   "execution_count": null,
   "id": "fe72fbf6-3cf6-4391-9476-54d1940f5cb1",
   "metadata": {},
   "outputs": [],
   "source": [
    "#question no:11\n",
    "lambda(),input(),map()"
   ]
  },
  {
   "cell_type": "code",
   "execution_count": null,
   "id": "be2fd93d-2733-40c2-9f17-a00daeec2a1e",
   "metadata": {},
   "outputs": [],
   "source": [
    "#qustion no:12\n",
    "79 characters"
   ]
  },
  {
   "cell_type": "code",
   "execution_count": null,
   "id": "a0723aa2-4fc9-41cc-a78b-9fbad7e58af1",
   "metadata": {},
   "outputs": [],
   "source": [
    "#qustion no:13\n",
    " simple, clean, and fast to write"
   ]
  },
  {
   "cell_type": "code",
   "execution_count": null,
   "id": "5fd9d429-e30f-4b89-942f-7dd54266e70d",
   "metadata": {},
   "outputs": [],
   "source": [
    "#qustion no:14\n",
    "Memory management in Python involves a private heap containing all Python objects and data structures."
   ]
  },
  {
   "cell_type": "code",
   "execution_count": null,
   "id": "280a182d-986b-4305-8c8d-f6d6bc641d36",
   "metadata": {},
   "outputs": [],
   "source": [
    "#qustion no:15\n",
    "Install python from www.pythondownload\n",
    "After this, install it on your PC. Look for the location where PYTHON has been installed on your PC using tge following command on your command prompt: cmd python.\n",
    "Then go to advanced system settings and add new variable and name it as PYTHON_NAME and paste the copied path.\n",
    "Then look for the path variable, select it's value and select edit\n",
    "Add a semicolon towards the end of the value if it's not present and then type %PYTHON_HOME%"
   ]
  },
  {
   "cell_type": "code",
   "execution_count": null,
   "id": "aab70dbc-bcb9-4ba7-ba49-1e698de89413",
   "metadata": {},
   "outputs": [],
   "source": [
    "#qustion no:16\n",
    "yes"
   ]
  }
 ],
 "metadata": {
  "kernelspec": {
   "display_name": "Python 3 (ipykernel)",
   "language": "python",
   "name": "python3"
  },
  "language_info": {
   "codemirror_mode": {
    "name": "ipython",
    "version": 3
   },
   "file_extension": ".py",
   "mimetype": "text/x-python",
   "name": "python",
   "nbconvert_exporter": "python",
   "pygments_lexer": "ipython3",
   "version": "3.10.8"
  }
 },
 "nbformat": 4,
 "nbformat_minor": 5
}
