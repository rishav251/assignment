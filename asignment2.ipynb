{
 "cells": [
  {
   "cell_type": "code",
   "execution_count": 3,
   "id": "c6d13503-5279-4346-8d8a-1b2ddfe297fc",
   "metadata": {},
   "outputs": [
    {
     "name": "stdin",
     "output_type": "stream",
     "text": [
      "enter your number  105\n"
     ]
    },
    {
     "name": "stdout",
     "output_type": "stream",
     "text": [
      "A\n"
     ]
    }
   ],
   "source": [
    "# question no:1\n",
    "marks = int(input(\"enter your number \"))\n",
    "if marks > 90:\n",
    "    print('A')\n",
    "elif marks >80 and marks<= 90:\n",
    "    print('B')\n",
    "elif marks >=60 and marks<= 80:\n",
    "    print('C')\n",
    "else :\n",
    "    print('D')"
   ]
  },
  {
   "cell_type": "code",
   "execution_count": 2,
   "id": "90e5714a-356b-4f25-a148-509a520c00a2",
   "metadata": {},
   "outputs": [
    {
     "name": "stdin",
     "output_type": "stream",
     "text": [
      " 500000\n"
     ]
    },
    {
     "name": "stdout",
     "output_type": "stream",
     "text": [
      "tax to be paid 15% \n"
     ]
    }
   ],
   "source": [
    "# question no:2\n",
    "price = int(input())\n",
    "if price > 100000:\n",
    "    print('tax to be paid 15% ')\n",
    "elif price > 50000 and price <=100000:\n",
    "    print('tax to be paid 10% ' )\n",
    "else:\n",
    "    print('tax to paid 5% ')"
   ]
  },
  {
   "cell_type": "code",
   "execution_count": null,
   "id": "f04a1590-3f94-4976-971b-b32ad4a0a12e",
   "metadata": {},
   "outputs": [],
   "source": [
    "# question no:3\n",
    "city = str.lower(input('enter city name '))\n",
    "if city == 'delhi':\n",
    "    print('Red Fort')\n",
    "elif city == 'agra':\n",
    "    print('Taj Mahal')\n",
    "elif city == 'jaipur':\n",
    "    print('Jal Mahal')\n",
    "else:\n",
    "    print('please inter valid city name ')"
   ]
  },
  {
   "cell_type": "code",
   "execution_count": 5,
   "id": "d8d84a06-f306-4a53-840f-d3c627c5b140",
   "metadata": {},
   "outputs": [
    {
     "name": "stdin",
     "output_type": "stream",
     "text": [
      "enter your number  99\n"
     ]
    },
    {
     "data": {
      "text/plain": [
       "2"
      ]
     },
     "execution_count": 5,
     "metadata": {},
     "output_type": "execute_result"
    }
   ],
   "source": [
    "# question no:4\n",
    "count = 0\n",
    "n = int(input('enter your number '))\n",
    "while n >= 10:\n",
    "    if n % 3 == 0:\n",
    "        count += 1\n",
    "        n = n/3\n",
    "    else : \n",
    "        break\n",
    "count\n",
    "    \n",
    "    \n",
    "        \n",
    "    \n",
    "    \n",
    "    "
   ]
  },
  {
   "cell_type": "code",
   "execution_count": null,
   "id": "e7750bd7-ce77-44de-b285-e0c50a76d65b",
   "metadata": {},
   "outputs": [],
   "source": [
    "# question no:5\n",
    "A \"while\" loop in Python is used when you want to repeatedly execute a block of code as long as a certain condition is met. The loop will continue to run as long as the condition is True and will exit once the condition becomes False.\n",
    "\n",
    "Here's an example to help illustrate the concept:\n",
    "\n",
    "python\n",
    "Copy code\n",
    "# Program to print the numbers from 1 to 10\n",
    "\n",
    "counter = 1\n",
    "\n",
    "while counter <= 10:\n",
    "    print(counter)\n",
    "    counter += 1\n",
    "\n",
    "# Output: 1 2 3 4 5 6 7 8 9 10\n",
    "In this example, the condition counter <= 10 is checked before each iteration of the loop. If it's True, the loop body is executed and the value of counter is incremented by 1. If it's False, the loop will exit and the program will continue with the next line of code.\n",
    "\n",
    "It's important to keep in mind that if the condition never becomes False, the loop will run indefinitely, leading to an infinite loop. It's crucial to include code inside the loop that will eventually make the condition False to avoid this.\n",
    "\n",
    "\n",
    "\n"
   ]
  },
  {
   "cell_type": "code",
   "execution_count": 5,
   "id": "fe782443-6b8c-4016-92bf-90f38d8ae251",
   "metadata": {},
   "outputs": [
    {
     "name": "stdin",
     "output_type": "stream",
     "text": [
      "enter number of star u want to print  5\n"
     ]
    },
    {
     "name": "stdout",
     "output_type": "stream",
     "text": [
      "*  \n",
      "*  *  \n",
      "*  *  *  \n",
      "*  *  *  *  \n",
      "*  *  *  *  *  \n"
     ]
    }
   ],
   "source": [
    "# question no:6\n",
    "\n",
    "n = int(input('enter number of star u want to print '))\n",
    "i = 1\n",
    "while i <= n :\n",
    "    j = 1\n",
    "    while j <= i:\n",
    "        print('* ',end=' ')\n",
    "        j = j+1\n",
    "    print(\"\")\n",
    "    i = i+1\n",
    "    \n",
    "    \n",
    "\n"
   ]
  },
  {
   "cell_type": "code",
   "execution_count": 8,
   "id": "4d6b4f70-f01c-4066-8ce8-2e342e03775d",
   "metadata": {},
   "outputs": [
    {
     "name": "stdin",
     "output_type": "stream",
     "text": [
      "enter number of star u want to print  5\n"
     ]
    },
    {
     "name": "stdout",
     "output_type": "stream",
     "text": [
      "*  *  *  *  \n",
      "*  *  *  \n",
      "*  *  \n",
      "*  \n",
      "\n"
     ]
    }
   ],
   "source": [
    "# question no:6\n",
    "\n",
    "n = int(input('enter number of star u want to print '))\n",
    "i = 1\n",
    "while i <= n :\n",
    "    j = 1\n",
    "    while j <= n-i:\n",
    "        print('* ',end=' ')\n",
    "        j = j+1\n",
    "    print(\"\")\n",
    "    i = i+1\n",
    "    "
   ]
  },
  {
   "cell_type": "code",
   "execution_count": 3,
   "id": "f20dd70e-de82-4dd2-bf64-8a4c2442b4a9",
   "metadata": {},
   "outputs": [
    {
     "name": "stdin",
     "output_type": "stream",
     "text": [
      "enter number of star u want to print  5\n"
     ]
    },
    {
     "name": "stdout",
     "output_type": "stream",
     "text": [
      "*  *  *  *  *  \n",
      "*  *  *  *  *  \n",
      "*  *  *  *  *  \n",
      "*  *  *  *  *  \n",
      "*  *  *  *  *  \n"
     ]
    }
   ],
   "source": [
    "# question no:6\n",
    "\n",
    "n = int(input('enter number of star u want to print '))\n",
    "i = 1\n",
    "while i <= n :\n",
    "    j = 1\n",
    "    while j <= n - i:\n",
    "        print('* ',end=' ')\n",
    "        j = j+1\n",
    "    j = 1\n",
    "    while j <= 2*i - j:\n",
    "        print('* ',end=' ')\n",
    "        j = j+1\n",
    "    print(\"\")\n",
    "    i = i + 1\n"
   ]
  },
  {
   "cell_type": "code",
   "execution_count": 5,
   "id": "3ea1dfee-2da9-4605-a0a8-d3a92844f10d",
   "metadata": {},
   "outputs": [
    {
     "name": "stdin",
     "output_type": "stream",
     "text": [
      "enter your limit  10\n"
     ]
    },
    {
     "name": "stdout",
     "output_type": "stream",
     "text": [
      "10\n",
      "9\n",
      "8\n",
      "7\n",
      "6\n",
      "5\n",
      "4\n",
      "3\n",
      "2\n",
      "1\n"
     ]
    }
   ],
   "source": [
    "# question no:7\n",
    "n = int(input('enter your limit '))\n",
    "i = 1\n",
    "while n >= i :\n",
    "    print(n)\n",
    "    n = n-1"
   ]
  },
  {
   "cell_type": "code",
   "execution_count": 12,
   "id": "a07f80cb-8720-45a3-9d27-360a2e408c27",
   "metadata": {},
   "outputs": [
    {
     "name": "stdin",
     "output_type": "stream",
     "text": [
      "enter your limit  10\n"
     ]
    },
    {
     "name": "stdout",
     "output_type": "stream",
     "text": [
      "10\n",
      "9\n",
      "8\n",
      "7\n",
      "6\n",
      "5\n",
      "4\n",
      "3\n",
      "2\n",
      "1\n"
     ]
    }
   ],
   "source": [
    "# question no:8\n",
    "n = int(input('enter your limit '))\n",
    "i = 1\n",
    "while n >= i :\n",
    "    print(n)\n",
    "    n = n-1"
   ]
  },
  {
   "cell_type": "code",
   "execution_count": null,
   "id": "1681bd3f-70fc-4a22-8583-cfff332c80e5",
   "metadata": {},
   "outputs": [],
   "source": []
  }
 ],
 "metadata": {
  "kernelspec": {
   "display_name": "Python 3 (ipykernel)",
   "language": "python",
   "name": "python3"
  },
  "language_info": {
   "codemirror_mode": {
    "name": "ipython",
    "version": 3
   },
   "file_extension": ".py",
   "mimetype": "text/x-python",
   "name": "python",
   "nbconvert_exporter": "python",
   "pygments_lexer": "ipython3",
   "version": "3.10.8"
  }
 },
 "nbformat": 4,
 "nbformat_minor": 5
}
