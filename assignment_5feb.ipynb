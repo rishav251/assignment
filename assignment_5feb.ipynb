{
 "cells": [
  {
   "cell_type": "code",
   "execution_count": null,
   "id": "8440818a-01e0-43b8-940b-be213dbda748",
   "metadata": {},
   "outputs": [],
   "source": [
    "# question no:1\n",
    "In Object-Oriented Programming (OOP), a class is a blueprint for creating objects (a particular data structure), providing initial values for state (member variables or attributes), and implementations of behavior (member functions or methods). An object is an instance of a class, created at runtime, with a unique identity and state.\n",
    "\n",
    "For example, consider a class Person that represents a person with their name and age. The class might look something like this:\n",
    "    \n",
    "class Person:\n",
    "    def __init__(self, name, age):\n",
    "        self.name = name\n",
    "        self.age = age\n",
    "\n",
    "    def display_info(self):\n",
    "        print(f\"Name: {self.name}, Age: {self.age}\")\n",
    "Here, Person is a class, and __init__, display_info are its methods. We can create multiple objects from the Person class, and each object will have its own unique state.\n",
    "\n",
    "p1 = Person(\"John Doe\", 30)\n",
    "p2 = Person(\"Jane Doe\", 25)\n",
    "\n",
    "p1.display_info()  # Output: Name: John Doe, Age: 30\n",
    "p2.display_info()  # Output: Name: Jane Doe, Age: 25\n",
    "In this example, p1 and p2 are objects of the Person class, with their own unique names and ages."
   ]
  },
  {
   "cell_type": "code",
   "execution_count": null,
   "id": "5ca64c81-11f5-4da7-8c4a-77d4ed94858f",
   "metadata": {},
   "outputs": [],
   "source": [
    "# question no:2\n",
    "The four pillars of Object-Oriented Programming (OOP) are:\n",
    "\n",
    "(1)Abstraction: This refers to the process of hiding the implementation details of an object and showing only the necessary information to the user. This helps to simplify the complexity of the system and improve its overall readability and maintainability.\n",
    "\n",
    "(2)Encapsulation: This refers to the process of wrapping data and functions within an object, so that the internal details of an object are protected and can only be accessed through well-defined interfaces. This helps to prevent unintended modifications to the internal state of an object.\n",
    "\n",
    "(3)Inheritance: This refers to the ability of an object to inherit properties and behavior from its parent object. This allows for the creation of new objects that are based on existing objects, and helps to reduce the amount of redundant code in the system.\n",
    "\n",
    "(4)Polymorphism: This refers to the ability of an object to take on many forms. In OOP, polymorphism allows objects of different classes to be treated as objects of a common class, making it possible to write generic algorithms that can work with objects of d"
   ]
  },
  {
   "cell_type": "code",
   "execution_count": null,
   "id": "e23b8c54-1588-4129-9c97-57d97078d2e5",
   "metadata": {},
   "outputs": [],
   "source": [
    "# question no:3\n",
    "The __init__ method, also known as the constructor method, is a special method in Python classes that is automatically called when an object of the class is created. It's used to initialize the attributes of an object when it is first created. The __init__ method is defined with the special name __init__ and it must have a specific signature, which includes the self keyword as its first parameter.\n",
    "\n",
    "Here is an example of the __init__ method in a class that represents a rectangle:\n",
    "\n",
    "class Rectangle:\n",
    "    def __init__(self, width, height):\n",
    "        self.width = width\n",
    "        self.height = height\n",
    "In this example, when an object of the Rectangle class is created, the __init__ method is automatically called and the values of width and height are set for the object. Here's an example of how you might create an object of this class and initialize its attributes:\n",
    "\n",
    "r = Rectangle(10, 20)\n",
    "print(r.width) # Output: 10\n",
    "print(r.height) # Output: 20\n",
    "\n",
    "\n",
    "\n"
   ]
  },
  {
   "cell_type": "code",
   "execution_count": null,
   "id": "b222fff7-76e3-45f3-93f2-e5ef2cf7a327",
   "metadata": {},
   "outputs": [],
   "source": [
    "# question no:4\n",
    "It is used to access the attributes and methods of the current object within a class method."
   ]
  },
  {
   "cell_type": "code",
   "execution_count": null,
   "id": "f1ba8e5a-825f-4032-aa4d-2252ab08b6e2",
   "metadata": {},
   "outputs": [],
   "source": [
    "# question no:5\n"
   ]
  }
 ],
 "metadata": {
  "kernelspec": {
   "display_name": "Python 3 (ipykernel)",
   "language": "python",
   "name": "python3"
  },
  "language_info": {
   "codemirror_mode": {
    "name": "ipython",
    "version": 3
   },
   "file_extension": ".py",
   "mimetype": "text/x-python",
   "name": "python",
   "nbconvert_exporter": "python",
   "pygments_lexer": "ipython3",
   "version": "3.10.8"
  }
 },
 "nbformat": 4,
 "nbformat_minor": 5
}
