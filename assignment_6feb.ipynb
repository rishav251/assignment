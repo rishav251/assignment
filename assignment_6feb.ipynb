{
 "cells": [
  {
   "cell_type": "code",
   "execution_count": 7,
   "id": "f3b7a83d-0ae6-4688-a990-bc4fea921153",
   "metadata": {},
   "outputs": [],
   "source": [
    "# question no:1 6 feb aaignment\n",
    "l1 = [1,2,3,4, [44,55,66, True], False, (34,56,78,89,34), {1,2,3,3,2,1}, {1:34, \"key2\": [55, 67, 78, 89], 4: (45,\n",
    "22, 61, 34)}, [56, 'data science'], 'Machine Learning']\n",
    "\n",
    "from functools import reduce\n",
    "\n",
    "def test(l1):\n",
    "    l2 = []\n",
    "    for i in l1 :\n",
    "        if type(i) == list:\n",
    "            for j in i:\n",
    "                if type(j) == int or type(j) == float:\n",
    "                    l2.append(j)\n",
    "        elif type(i) == tuple:\n",
    "             for k in i:\n",
    "                if type(k) == int or type(k) == float:\n",
    "                    l2.append(k)\n",
    "        elif type(i) == set:\n",
    "            for m in i:\n",
    "                if type(m) == int or type(m) == float:\n",
    "                    l2.append(m)\n",
    "        elif type(i) == dict:\n",
    "            for key,value in i.items():\n",
    "                if type(key) == int:\n",
    "                    l2.append(key)\n",
    "                if type(value) == int:\n",
    "                    l2.append(value)\n",
    "                if type(value) == list:\n",
    "                    for data_list in value:\n",
    "                        if type(data_list) == int:\n",
    "                            l2.append(data_list)\n",
    "                if type(value) == tuple:\n",
    "                    for data_tuple in value:\n",
    "                        if type(data_tuple) == int:\n",
    "                            l2.append(data_tuple)\n",
    "            else :\n",
    "                if type(i) == int or type(i) == float:\n",
    "                    l2.append(i)\n",
    "    product = reduce(lambda x,y : x * y, l2)\n",
    "    print(l2)\n",
    "    return product\n",
    "            \n",
    "            "
   ]
  },
  {
   "cell_type": "code",
   "execution_count": 8,
   "id": "12ed0da4-6a4a-4f67-924e-a73031950d3c",
   "metadata": {},
   "outputs": [
    {
     "name": "stdout",
     "output_type": "stream",
     "text": [
      "[44, 55, 66, 34, 56, 78, 89, 34, 1, 2, 3, 1, 34, 55, 67, 78, 89, 4, 45, 22, 61, 34, 56]\n"
     ]
    },
    {
     "data": {
      "text/plain": [
       "172279659957795228284743385088000"
      ]
     },
     "execution_count": 8,
     "metadata": {},
     "output_type": "execute_result"
    }
   ],
   "source": [
    "test(l1)"
   ]
  },
  {
   "cell_type": "code",
   "execution_count": 1,
   "id": "3fac4243-3197-47f3-97d0-c734b57a1489",
   "metadata": {},
   "outputs": [
    {
     "data": {
      "text/plain": [
       "'r$dzmg$gl$yvxlnv$z$wzgz$hxrvmgrhg.'"
      ]
     },
     "execution_count": 1,
     "metadata": {},
     "output_type": "execute_result"
    }
   ],
   "source": [
    "#question no:2\n",
    "def encrypt(x):\n",
    "    encrypted_msg = \"\"  \n",
    "    alphabet = ['a','b','c','d','e','f','g','h','i','j','k','l','m','n','o','p','q','r','s','t','u','v','w','x','y','z']\n",
    "    reverse_alphabet = alphabet[::-1] \n",
    "    \n",
    "    # Reverse the alphabet using slicing\n",
    "    for i in x:\n",
    "        if i == ' ':\n",
    "            encrypted_msg += '$'\n",
    "        elif i == \".\" or i == \"!\" or i == \",\" or i == \"?\":\n",
    "            encrypted_msg += i\n",
    "        else:\n",
    "            n = alphabet.index(i.lower())\n",
    "            encrypted_msg += reverse_alphabet[n]\n",
    "    return encrypted_msg\n",
    "            \n",
    "\n",
    "input_sentence = \"I want to become a Data Scientist.\"\n",
    "encrypt(input_sentence)"
   ]
  },
  {
   "cell_type": "code",
   "execution_count": 6,
   "id": "b2b463a1-978a-4a30-b459-813be8101d65",
   "metadata": {},
   "outputs": [
    {
     "ename": "ValueError",
     "evalue": "'my name' is not in list",
     "output_type": "error",
     "traceback": [
      "\u001b[0;31m---------------------------------------------------------------------------\u001b[0m",
      "\u001b[0;31mValueError\u001b[0m                                Traceback (most recent call last)",
      "Cell \u001b[0;32mIn[6], line 3\u001b[0m\n\u001b[1;32m      1\u001b[0m alphabet \u001b[38;5;241m=\u001b[39m [\u001b[38;5;124m'\u001b[39m\u001b[38;5;124mmy Name\u001b[39m\u001b[38;5;124m'\u001b[39m ]\n\u001b[1;32m      2\u001b[0m \u001b[38;5;28;01mfor\u001b[39;00m i \u001b[38;5;129;01min\u001b[39;00m alphabet:\n\u001b[0;32m----> 3\u001b[0m     n \u001b[38;5;241m=\u001b[39m \u001b[43malphabet\u001b[49m\u001b[38;5;241;43m.\u001b[39;49m\u001b[43mindex\u001b[49m\u001b[43m(\u001b[49m\u001b[43mi\u001b[49m\u001b[38;5;241;43m.\u001b[39;49m\u001b[43mlower\u001b[49m\u001b[43m(\u001b[49m\u001b[43m)\u001b[49m\u001b[43m)\u001b[49m\n",
      "\u001b[0;31mValueError\u001b[0m: 'my name' is not in list"
     ]
    }
   ],
   "source": [
    "alphabet = ['my Name' ]\n",
    "for i in alphabet:\n",
    "    n = alphabet.index(i.lower())"
   ]
  },
  {
   "cell_type": "code",
   "execution_count": 10,
   "id": "2e334cad-86f9-489a-af88-7adbdba144dc",
   "metadata": {},
   "outputs": [
    {
     "data": {
      "text/plain": [
       "1"
      ]
     },
     "execution_count": 10,
     "metadata": {},
     "output_type": "execute_result"
    }
   ],
   "source": [
    "x = [1,2,3,4]\n",
    "x.index(2)"
   ]
  },
  {
   "cell_type": "code",
   "execution_count": null,
   "id": "131d7eac-3358-47d2-bca5-e5211161ae6c",
   "metadata": {},
   "outputs": [],
   "source": []
  }
 ],
 "metadata": {
  "kernelspec": {
   "display_name": "Python 3 (ipykernel)",
   "language": "python",
   "name": "python3"
  },
  "language_info": {
   "codemirror_mode": {
    "name": "ipython",
    "version": 3
   },
   "file_extension": ".py",
   "mimetype": "text/x-python",
   "name": "python",
   "nbconvert_exporter": "python",
   "pygments_lexer": "ipython3",
   "version": "3.10.8"
  }
 },
 "nbformat": 4,
 "nbformat_minor": 5
}
